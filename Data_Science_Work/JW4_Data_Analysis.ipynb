{
 "cells": [
  {
   "cell_type": "markdown",
   "metadata": {},
   "source": [
    "Data Analysis\n",
    "===\n",
    "\n",
    "Data analysis is the process of asking and anwering questions of our data. Is it faster to go through self check-out or employee checkout? Is a home's value related to its size? This module will provide a very brief introductions to a few topics to get you started analyzing data.\n",
    "\n",
    "\n",
    "Statistical Significance\n",
    "---\n",
    "\n",
    "A common question you might ask of your data is, are two things different? Take, for example, checking out at a grocery store in a self-checkout line versus getting checked out by a human employee. In the dataset provided below each row represents one persons checkout time (in seconds) going through both self checkout (U-Scan) and getting checked out by a store employee (Employee_Checkout)."
   ]
  },
  {
   "cell_type": "code",
   "execution_count": 1,
   "metadata": {},
   "outputs": [
    {
     "data": {
      "text/html": [
       "<div>\n",
       "<style scoped>\n",
       "    .dataframe tbody tr th:only-of-type {\n",
       "        vertical-align: middle;\n",
       "    }\n",
       "\n",
       "    .dataframe tbody tr th {\n",
       "        vertical-align: top;\n",
       "    }\n",
       "\n",
       "    .dataframe thead th {\n",
       "        text-align: right;\n",
       "    }\n",
       "</style>\n",
       "<table border=\"1\" class=\"dataframe\">\n",
       "  <thead>\n",
       "    <tr style=\"text-align: right;\">\n",
       "      <th></th>\n",
       "      <th>U-Scan</th>\n",
       "      <th>Employee_Checkout</th>\n",
       "    </tr>\n",
       "  </thead>\n",
       "  <tbody>\n",
       "    <tr>\n",
       "      <th>0</th>\n",
       "      <td>341</td>\n",
       "      <td>169</td>\n",
       "    </tr>\n",
       "    <tr>\n",
       "      <th>1</th>\n",
       "      <td>450</td>\n",
       "      <td>164</td>\n",
       "    </tr>\n",
       "    <tr>\n",
       "      <th>2</th>\n",
       "      <td>199</td>\n",
       "      <td>243</td>\n",
       "    </tr>\n",
       "    <tr>\n",
       "      <th>3</th>\n",
       "      <td>57</td>\n",
       "      <td>53</td>\n",
       "    </tr>\n",
       "    <tr>\n",
       "      <th>4</th>\n",
       "      <td>33</td>\n",
       "      <td>51</td>\n",
       "    </tr>\n",
       "  </tbody>\n",
       "</table>\n",
       "</div>"
      ],
      "text/plain": [
       "   U-Scan  Employee_Checkout\n",
       "0     341                169\n",
       "1     450                164\n",
       "2     199                243\n",
       "3      57                 53\n",
       "4      33                 51"
      ]
     },
     "execution_count": 1,
     "metadata": {},
     "output_type": "execute_result"
    }
   ],
   "source": [
    "import pandas as pd\n",
    "\n",
    "# data set originally from http://www.math.hope.edu/swanson/statlabs/data.html\n",
    "checkout_times_df = pd.read_csv('checkout_times.txt', delim_whitespace=True)\n",
    "checkout_times_df.head()"
   ]
  },
  {
   "cell_type": "markdown",
   "metadata": {},
   "source": [
    "Just by looking at the first 5 data points we can see that for some people self checkout was faster and for others employee checkout was faster. The best we can do to answer the question \"which is faster\" is to figure out which is faster on average."
   ]
  },
  {
   "cell_type": "code",
   "execution_count": 2,
   "metadata": {},
   "outputs": [
    {
     "name": "stdout",
     "output_type": "stream",
     "text": [
      "total data points: 24\n",
      "\n",
      "Mean check out times\n",
      "U-Scan               146.916667\n",
      "Employee_Checkout    122.125000\n",
      "dtype: float64\n",
      "\n",
      "Standard Deviation of checkout times\n",
      "U-Scan               103.073176\n",
      "Employee_Checkout     69.417021\n",
      "dtype: float64\n"
     ]
    },
    {
     "data": {
      "text/plain": [
       "array([[<matplotlib.axes._subplots.AxesSubplot object at 0x0000021751401358>,\n",
       "        <matplotlib.axes._subplots.AxesSubplot object at 0x00000217514662B0>]],\n",
       "      dtype=object)"
      ]
     },
     "execution_count": 2,
     "metadata": {},
     "output_type": "execute_result"
    },
    {
     "data": {
      "image/png": "[encoded data removed]",
      "text/plain": [
       "<matplotlib.figure.Figure at 0x21750b6a898>"
      ]
     },
     "metadata": {},
     "output_type": "display_data"
    }
   ],
   "source": [
    "print('total data points: %s\\n' % len(checkout_times_df))\n",
    "\n",
    "print('Mean check out times')\n",
    "print(checkout_times_df.mean())\n",
    "\n",
    "print('\\nStandard Deviation of checkout times')\n",
    "print(checkout_times_df.std())\n",
    "\n",
    "%matplotlib inline\n",
    "checkout_times_df.hist()"
   ]
  },
  {
   "cell_type": "markdown",
   "metadata": {},
   "source": [
    "Based on this sample of checkout times from 24 customers, on average employee checkout is faster than self checkout. The average difference was 25 seconds, but if a different set of customers performed the same experiment what's the likelihood that they would come up with contradictory results? We can answer that question with a test of statistical significance.\n",
    "\n",
    "The precise definitions for tests of statistical significants can be a little convoluded, but their purpose is to help quantify the reliability of your findings. In performing these tests we usually assume the opposite of what we want to prove. The opposite of what we want to prove is called the null hypothesis. In the case above the null hypothesis would be that there is no difference between self checkout and employee checkout. We then calculate the probability that our data supports the null hypothesis. The probability that the null hypothesis is true is called the \"p-value\". A low p-value means the null hypothesis is unlikely, which means the thing we're trying to prove *is* likely. We'll use a t-test from scipy's stats module to get the probability that this null hypthosis is valid."
   ]
  },
  {
   "cell_type": "code",
   "execution_count": 3,
   "metadata": {},
   "outputs": [
    {
     "name": "stdout",
     "output_type": "stream",
     "text": [
      "0.27040642076658766\n"
     ]
    }
   ],
   "source": [
    "from scipy import stats\n",
    "\n",
    "pval = stats.ttest_rel(\n",
    "    checkout_times_df['U-Scan'],\n",
    "    checkout_times_df['Employee_Checkout']\n",
    ").pvalue\n",
    "print(pval)"
   ]
  },
  {
   "cell_type": "markdown",
   "metadata": {},
   "source": [
    "The p-value is 0.27 which means there's a 27% chance that the checkout times between self checkout and employee checkout aren't different at all. Most statisticians would claim that, based on this data, there's not enough evidence to reject the null hypothesis. In other words, we can't say that either employee checkout or self checkout is faster based on our data.\n",
    "\n",
    "In most cases you've performed an experiment (or gathered data) with hopes of rejecting the null hypothesis (or actually proving something). In general small p-values mean we can make a statistical claim about two things being different. But how small is small enough? There's not a great answer to that question, but the rule of thumb for many researchers is that if p is smaller than 0.05 you can claim statistical significance and if it's larger than 0.05 you can't."
   ]
  },
  {
   "cell_type": "markdown",
   "metadata": {},
   "source": [
    "Correlation\n",
    "---\n",
    "\n",
    "Let's return to the nbs sql database and look at data measuring engagement with musicians and bands on social media across Facebook, Twitter, YouTube and Instagram."
   ]
  },
  {
   "cell_type": "code",
   "execution_count": 4,
   "metadata": {},
   "outputs": [
    {
     "name": "stdout",
     "output_type": "stream",
     "text": [
      "there are 3760 rows in the data table\n"
     ]
    },
    {
     "data": {
      "text/html": [
       "<div>\n",
       "<style scoped>\n",
       "    .dataframe tbody tr th:only-of-type {\n",
       "        vertical-align: middle;\n",
       "    }\n",
       "\n",
       "    .dataframe tbody tr th {\n",
       "        vertical-align: top;\n",
       "    }\n",
       "\n",
       "    .dataframe thead th {\n",
       "        text-align: right;\n",
       "    }\n",
       "</style>\n",
       "<table border=\"1\" class=\"dataframe\">\n",
       "  <thead>\n",
       "    <tr style=\"text-align: right;\">\n",
       "      <th></th>\n",
       "      <th>FaceBookPageLikes</th>\n",
       "      <th>TwitterFollowers</th>\n",
       "      <th>YouTubeViews</th>\n",
       "      <th>InstagramLikes</th>\n",
       "      <th>InstagramFollowers</th>\n",
       "    </tr>\n",
       "    <tr>\n",
       "      <th>artist_id</th>\n",
       "      <th></th>\n",
       "      <th></th>\n",
       "      <th></th>\n",
       "      <th></th>\n",
       "      <th></th>\n",
       "    </tr>\n",
       "  </thead>\n",
       "  <tbody>\n",
       "    <tr>\n",
       "      <th>500</th>\n",
       "      <td>4797.0</td>\n",
       "      <td>1395.0</td>\n",
       "      <td>NaN</td>\n",
       "      <td>NaN</td>\n",
       "      <td>NaN</td>\n",
       "    </tr>\n",
       "    <tr>\n",
       "      <th>744</th>\n",
       "      <td>NaN</td>\n",
       "      <td>224.0</td>\n",
       "      <td>44287.0</td>\n",
       "      <td>NaN</td>\n",
       "      <td>NaN</td>\n",
       "    </tr>\n",
       "    <tr>\n",
       "      <th>952</th>\n",
       "      <td>4142.0</td>\n",
       "      <td>64.0</td>\n",
       "      <td>130279.0</td>\n",
       "      <td>NaN</td>\n",
       "      <td>NaN</td>\n",
       "    </tr>\n",
       "    <tr>\n",
       "      <th>1017</th>\n",
       "      <td>NaN</td>\n",
       "      <td>NaN</td>\n",
       "      <td>2966.0</td>\n",
       "      <td>NaN</td>\n",
       "      <td>NaN</td>\n",
       "    </tr>\n",
       "    <tr>\n",
       "      <th>1086</th>\n",
       "      <td>28980.0</td>\n",
       "      <td>43405.0</td>\n",
       "      <td>402054.0</td>\n",
       "      <td>56832.0</td>\n",
       "      <td>7653.0</td>\n",
       "    </tr>\n",
       "  </tbody>\n",
       "</table>\n",
       "</div>"
      ],
      "text/plain": [
       "           FaceBookPageLikes  TwitterFollowers  YouTubeViews  InstagramLikes  \\\n",
       "artist_id                                                                      \n",
       "500                   4797.0            1395.0           NaN             NaN   \n",
       "744                      NaN             224.0       44287.0             NaN   \n",
       "952                   4142.0              64.0      130279.0             NaN   \n",
       "1017                     NaN               NaN        2966.0             NaN   \n",
       "1086                 28980.0           43405.0      402054.0         56832.0   \n",
       "\n",
       "           InstagramFollowers  \n",
       "artist_id                      \n",
       "500                       NaN  \n",
       "744                       NaN  \n",
       "952                       NaN  \n",
       "1017                      NaN  \n",
       "1086                   7653.0  "
      ]
     },
     "execution_count": 4,
     "metadata": {},
     "output_type": "execute_result"
    }
   ],
   "source": [
    "import sqlite3 as lite\n",
    "\n",
    "con = lite.connect('nbs.db')\n",
    "query = 'select * from social_data'\n",
    "social_df = pd.read_sql(query, con, index_col='artist_id')\n",
    "con.close()\n",
    "print('there are %s rows in the data table' % len(social_df))\n",
    "social_df.head()"
   ]
  },
  {
   "cell_type": "code",
   "execution_count": 5,
   "metadata": {},
   "outputs": [
    {
     "data": {
      "text/plain": [
       "<matplotlib.axes._subplots.AxesSubplot at 0x217532810f0>"
      ]
     },
     "execution_count": 5,
     "metadata": {},
     "output_type": "execute_result"
    },
    {
     "data": {
      "image/png": "[encoded data removed]",
      "text/plain": [
       "<matplotlib.figure.Figure at 0x21752e3d828>"
      ]
     },
     "metadata": {},
     "output_type": "display_data"
    }
   ],
   "source": [
    "social_df['YouTubeViews'].plot.hist(bins=50, alpha=0.5)"
   ]
  },
  {
   "cell_type": "code",
   "execution_count": 6,
   "metadata": {},
   "outputs": [
    {
     "data": {
      "text/plain": [
       "<matplotlib.axes._subplots.AxesSubplot at 0x217532c4eb8>"
      ]
     },
     "execution_count": 6,
     "metadata": {},
     "output_type": "execute_result"
    },
    {
     "data": {
      "image/png": "[encoded data removed]",
      "text/plain": [
       "<matplotlib.figure.Figure at 0x217533035c0>"
      ]
     },
     "metadata": {},
     "output_type": "display_data"
    }
   ],
   "source": [
    "social_df.drop('YouTubeViews', axis=1).plot.hist(bins=750, alpha=0.3, xlim=[0,50000])"
   ]
  },
  {
   "cell_type": "markdown",
   "metadata": {},
   "source": [
    "Many statistical methods assume that data is normally distributed so it's always nice to find that normal looking histograms. The distributions of all five social features, however, are very right skewed. Fortunately there are ways to transform non-normal data to make it look normal. In this case we'll try taking the log of all of the values."
   ]
  },
  {
   "cell_type": "code",
   "execution_count": 7,
   "metadata": {},
   "outputs": [
    {
     "data": {
      "image/png": "[encoded data removed]",
      "text/plain": [
       "<matplotlib.figure.Figure at 0x21753341358>"
      ]
     },
     "metadata": {},
     "output_type": "display_data"
    }
   ],
   "source": [
    "import numpy as np\n",
    "from matplotlib import pyplot\n",
    "\n",
    "log_df = np.log10(social_df)\n",
    "log_df.hist(bins=20)\n",
    "pyplot.tight_layout()  # this line is usually necessary when you have multiple subplots"
   ]
  },
  {
   "cell_type": "markdown",
   "metadata": {},
   "source": [
    "It looks like that did the trick! Now that our data is normally distributed we can check whether any of these variables are correlated. Pandas dataframes have a built-in correlation method that gives correlations coefficients between every pair of features."
   ]
  },
  {
   "cell_type": "code",
   "execution_count": 8,
   "metadata": {},
   "outputs": [
    {
     "data": {
      "text/html": [
       "<div>\n",
       "<style scoped>\n",
       "    .dataframe tbody tr th:only-of-type {\n",
       "        vertical-align: middle;\n",
       "    }\n",
       "\n",
       "    .dataframe tbody tr th {\n",
       "        vertical-align: top;\n",
       "    }\n",
       "\n",
       "    .dataframe thead th {\n",
       "        text-align: right;\n",
       "    }\n",
       "</style>\n",
       "<table border=\"1\" class=\"dataframe\">\n",
       "  <thead>\n",
       "    <tr style=\"text-align: right;\">\n",
       "      <th></th>\n",
       "      <th>FaceBookPageLikes</th>\n",
       "      <th>TwitterFollowers</th>\n",
       "      <th>YouTubeViews</th>\n",
       "      <th>InstagramLikes</th>\n",
       "      <th>InstagramFollowers</th>\n",
       "    </tr>\n",
       "  </thead>\n",
       "  <tbody>\n",
       "    <tr>\n",
       "      <th>FaceBookPageLikes</th>\n",
       "      <td>1.000000</td>\n",
       "      <td>0.410080</td>\n",
       "      <td>0.298984</td>\n",
       "      <td>0.466838</td>\n",
       "      <td>0.525900</td>\n",
       "    </tr>\n",
       "    <tr>\n",
       "      <th>TwitterFollowers</th>\n",
       "      <td>0.410080</td>\n",
       "      <td>1.000000</td>\n",
       "      <td>0.189475</td>\n",
       "      <td>0.540367</td>\n",
       "      <td>0.691184</td>\n",
       "    </tr>\n",
       "    <tr>\n",
       "      <th>YouTubeViews</th>\n",
       "      <td>0.298984</td>\n",
       "      <td>0.189475</td>\n",
       "      <td>1.000000</td>\n",
       "      <td>0.221682</td>\n",
       "      <td>0.322739</td>\n",
       "    </tr>\n",
       "    <tr>\n",
       "      <th>InstagramLikes</th>\n",
       "      <td>0.466838</td>\n",
       "      <td>0.540367</td>\n",
       "      <td>0.221682</td>\n",
       "      <td>1.000000</td>\n",
       "      <td>0.851220</td>\n",
       "    </tr>\n",
       "    <tr>\n",
       "      <th>InstagramFollowers</th>\n",
       "      <td>0.525900</td>\n",
       "      <td>0.691184</td>\n",
       "      <td>0.322739</td>\n",
       "      <td>0.851220</td>\n",
       "      <td>1.000000</td>\n",
       "    </tr>\n",
       "  </tbody>\n",
       "</table>\n",
       "</div>"
      ],
      "text/plain": [
       "                    FaceBookPageLikes  TwitterFollowers  YouTubeViews  \\\n",
       "FaceBookPageLikes            1.000000          0.410080      0.298984   \n",
       "TwitterFollowers             0.410080          1.000000      0.189475   \n",
       "YouTubeViews                 0.298984          0.189475      1.000000   \n",
       "InstagramLikes               0.466838          0.540367      0.221682   \n",
       "InstagramFollowers           0.525900          0.691184      0.322739   \n",
       "\n",
       "                    InstagramLikes  InstagramFollowers  \n",
       "FaceBookPageLikes         0.466838            0.525900  \n",
       "TwitterFollowers          0.540367            0.691184  \n",
       "YouTubeViews              0.221682            0.322739  \n",
       "InstagramLikes            1.000000            0.851220  \n",
       "InstagramFollowers        0.851220            1.000000  "
      ]
     },
     "execution_count": 8,
     "metadata": {},
     "output_type": "execute_result"
    }
   ],
   "source": [
    "log_df.corr()"
   ]
  },
  {
   "cell_type": "markdown",
   "metadata": {},
   "source": [
    "Not surprisingly Instagram like are highly correlated with Instagram followers. We could also get correlation coefficient and the corresponding p-values from stat's personr method. In this case we have to do a little bit of extra work to drop any rows that have NA values. Let's dig into the correlation between Instagram likes and Instagram followers."
   ]
  },
  {
   "cell_type": "code",
   "execution_count": 9,
   "metadata": {},
   "outputs": [
    {
     "data": {
      "text/plain": [
       "(0.8512202450831523, 2.412052051898878e-57)"
      ]
     },
     "execution_count": 9,
     "metadata": {},
     "output_type": "execute_result"
    }
   ],
   "source": [
    "# dropping any rows that have NA values for either InstagramLikes or InstagramFollowers\n",
    "log_df_inst = log_df[['InstagramLikes', 'InstagramFollowers']].dropna()\n",
    "\n",
    "stats.pearsonr(log_df_inst['InstagramLikes'], log_df_inst['InstagramFollowers'])"
   ]
  },
  {
   "cell_type": "markdown",
   "metadata": {},
   "source": [
    "The first value in the resultig tuple is the correlation coefficient (which matches what we got from panda's corr method), and the second is the p-value. The very very small p-value means that we can be very confident that these two features are indeed positively correlated.\n",
    "\n",
    "Let's go a step further and plot the results in order to make a conjecture about the relationship between the two variables."
   ]
  },
  {
   "cell_type": "code",
   "execution_count": 10,
   "metadata": {},
   "outputs": [
    {
     "data": {
      "text/plain": [
       "<matplotlib.axes._subplots.AxesSubplot at 0x21754f90e48>"
      ]
     },
     "execution_count": 10,
     "metadata": {},
     "output_type": "execute_result"
    },
    {
     "data": {
      "image/png": "[encoded data removed]",
      "text/plain": [
       "<matplotlib.figure.Figure at 0x217560a20b8>"
      ]
     },
     "metadata": {},
     "output_type": "display_data"
    }
   ],
   "source": [
    "log_df.plot(kind='scatter', x='InstagramFollowers', y='InstagramLikes', title='log10-log10 axes')"
   ]
  },
  {
   "cell_type": "markdown",
   "metadata": {},
   "source": [
    "The relationship looks linear. Let's try to fit a few functions to the data."
   ]
  },
  {
   "cell_type": "code",
   "execution_count": 11,
   "metadata": {},
   "outputs": [
    {
     "name": "stdout",
     "output_type": "stream",
     "text": [
      "the slope and y-intercept of the best fit line are 1.0681419832139831 and 0.6433234931709851\n",
      "the coefficients of the second order polynomial are -1.2705257588800865, 2.412636641034265, and -0.222587639000723\n"
     ]
    }
   ],
   "source": [
    "from matplotlib import pyplot\n",
    "\n",
    "x = log_df_inst['InstagramFollowers']\n",
    "y = log_df_inst['InstagramLikes']\n",
    "\n",
    "(m, b) = np.polyfit(x, y, 1)\n",
    "print('the slope and y-intercept of the best fit line are %s and %s' % (m, b))\n",
    "\n",
    "(C2, C1, C0) = np.polyfit(x, y, 2)\n",
    "print('the coefficients of the second order polynomial are %s, %s, and %s' % (C0, C1, C2))"
   ]
  },
  {
   "cell_type": "code",
   "execution_count": 12,
   "metadata": {},
   "outputs": [
    {
     "data": {
      "image/png": "[encoded data removed]",
      "text/plain": [
       "<matplotlib.figure.Figure at 0x2175614f400>"
      ]
     },
     "metadata": {},
     "output_type": "display_data"
    }
   ],
   "source": [
    "# create dummy points along the x-axis to plot our fit curves against\n",
    "xi = np.linspace(min(x), max(x), 100)\n",
    "\n",
    "# define functions that map the the linear (f1) and 2nd order (f2) curves to values along the y-axis\n",
    "def f1(xi):\n",
    "    return b + m*xi\n",
    "\n",
    "def f2(xi):\n",
    "    return C0 + C1*xi + C2*xi*xi\n",
    "\n",
    "pyplot.scatter(x, y, s=11, label=None)  # plot the data\n",
    "pyplot.plot(xi, f1(xi), c='r', label='linear fit')  # plot the linear fit\n",
    "pyplot.plot(xi, f2(xi), c='g', label='2nd order fit')  # plot the 2nd order fit\n",
    "\n",
    "pyplot.legend(loc='upper left')\n",
    "pyplot.xlabel('log10(Instagram Followers)')\n",
    "pyplot.ylabel('log10(Instagram Likes)')\n",
    "pyplot.show()"
   ]
  },
  {
   "cell_type": "markdown",
   "metadata": {},
   "source": [
    "Both the linear and the 2nd order fits go right through the middle of our data points, but the 2nd order fit does a little better at the ends. We can measure the \"goodness\" of the fit with the [Coefficient of determination](https://en.wikipedia.org/wiki/Coefficient_of_determination) (more commonly referred to as the \"r-squared\" value). r-squared varies between 0 and 1, 1 meaning the fit line passes through every data point (perfect fit) and values close to 0 meaning the line does a very poor job fitting the data. There are built in python functions to compute r-squared, but it's [definition](https://en.wikipedia.org/wiki/Coefficient_of_determination#Definitions) is short so let's write our own function to calculate it."
   ]
  },
  {
   "cell_type": "code",
   "execution_count": 13,
   "metadata": {},
   "outputs": [
    {
     "name": "stdout",
     "output_type": "stream",
     "text": [
      "r-squared for linear fit: 0.724575905639423\n",
      "r-squared for 2nd order fit: 0.755966152427294\n"
     ]
    }
   ],
   "source": [
    "def rsquared(f, x, y):\n",
    "    yhat = f(x)\n",
    "    ybar = np.sum(y)/len(y)          # or sum(y)/len(y)\n",
    "    ssreg = np.sum((yhat-ybar)**2)   # or sum([ (yihat - ybar)**2 for yihat in yhat])\n",
    "    sstot = np.sum((y - ybar)**2)    # or sum([ (yi - ybar)**2 for yi in y])\n",
    "    return ssreg / sstot\n",
    "\n",
    "rsq_linear = rsquared(f1, x, y)\n",
    "rsq_2nd = rsquared(f2, x, y)\n",
    "\n",
    "print('r-squared for linear fit: %s' % rsq_linear)\n",
    "print('r-squared for 2nd order fit: %s' % rsq_2nd)"
   ]
  },
  {
   "cell_type": "markdown",
   "metadata": {},
   "source": [
    "The r-square gives us a way to quantify our intuition that the second order polynomial fits the data a little better than the straight line. This is to be expected. The extra coefficient in the 2nd order equation gives the function an extra degree of freedom. In fact, polynomials can have any number of degrees of freedom and it can be tempting to keep increasing the order of the polynomial until the curve fits the data perfectly. But look what happens when we fit the data to a 30th order polynomial."
   ]
  },
  {
   "cell_type": "code",
   "execution_count": 14,
   "metadata": {},
   "outputs": [
    {
     "name": "stderr",
     "output_type": "stream",
     "text": [
      "C:\\Users\\Nonika\\Anaconda3\\lib\\site-packages\\ipykernel_launcher.py:1: RankWarning: Polyfit may be poorly conditioned\n",
      "  \"\"\"Entry point for launching an IPython kernel.\n"
     ]
    },
    {
     "name": "stdout",
     "output_type": "stream",
     "text": [
      "r-squared for 30th order fit: 0.7744656924664662\n"
     ]
    },
    {
     "data": {
      "image/png": "[encoded data removed]",
      "text/plain": [
       "<matplotlib.figure.Figure at 0x217564b0208>"
      ]
     },
     "metadata": {},
     "output_type": "display_data"
    }
   ],
   "source": [
    "C30 = np.polyfit(x, y, 30)\n",
    "def fN(xi, C):\n",
    "    \"\"\"function to calculate y values for polynomial of arbitrary degree\"\"\"\n",
    "    yi = np.zeros(len(xi))\n",
    "    N = len(C)\n",
    "    for i in range(N):\n",
    "        yi += C[(N-1)-i] * xi**i\n",
    "    return yi\n",
    "\n",
    "def f30(xi):\n",
    "    return fN(xi, C=C30)\n",
    "\n",
    "pyplot.scatter(x, y, s=11, label=None)  # plot the data\n",
    "pyplot.plot(xi, f30(xi), c='r')  # plot the 30th order polynomial\n",
    "pyplot.xlabel('log10(Instagram Followers)')\n",
    "pyplot.ylabel('log10(Instagram Likes)')\n",
    "\n",
    "print('r-squared for 30th order fit: %s' % rsquared(f30, x, y))"
   ]
  },
  {
   "cell_type": "markdown",
   "metadata": {},
   "source": [
    "The r-squared value for the 30th degree polynomial is slightly better than that of the 2nd degree polynomial. It also passes right through the points on the end, but it's obvious that this function is a poor representation of the relationship between the two variables. As a rule of thumb, if increasing the degrees of freedom of a fitting curve only marginally improves r-squared, go with a lower degree fit. In our case either the linear or 2nd degree fit would be a good choice.\n",
    "\n",
    "   **Note:** Choosing a function with too many degrees of freedom is called over fitting. There's a systematic way to avoid over fitting by splitting your data into two sets, a training set and a testing set. You can fit various models to the trainig set and then calculate the r-squared value on the test set. The best fitting function will generally be the one that fits the test set best. This method of avoiding overfitting is known as [cross validation](https://medium.com/towards-data-science/train-test-split-and-cross-validation-in-python-80b61beca4b6) and is applicable for many other machine learning problems.\n",
    "   \n",
    "A best fit curve allows us to put data in context or make predictions about what to expect with new data. For instance, let's say we know that an artist has 1000 Instagram followers and 100 likes. How is that artist doing relative to other artists?\n",
    "\n",
    "Using the linear fit we can calculate the expected number of Instagram likes given the number of followers."
   ]
  },
  {
   "cell_type": "code",
   "execution_count": 15,
   "metadata": {},
   "outputs": [
    {
     "name": "stdout",
     "output_type": "stream",
     "text": [
      "7042.866281827615\n"
     ]
    }
   ],
   "source": [
    "follower_count = 1000\n",
    "\n",
    "# since our fits were performed on log-transformed data, we have to log-transform this data point as well\n",
    "log_follower_count = np.log10(follower_count)\n",
    "expected_log_like_count = f1(log_follower_count)\n",
    "\n",
    "# now we have to undo the log transform\n",
    "expected_like_count = 10**expected_log_like_count\n",
    "print(expected_like_count)"
   ]
  },
  {
   "cell_type": "markdown",
   "metadata": {},
   "source": [
    "We'd expect an artist with 1000 Instagram followers to have around 7,000 likes. Since this artist has many fewer, we might conclude that the artist has relatively low engagement on instagram. We might use a similar approach to flag artists they may have bought followers.\n",
    "\n",
    "If we knew the number of followers and not the number of likes, we could also use our fit curves to predict the number of likes. In the case of an artist with 1000 followers our best guess for number of likes would be around 7,000. While that guess won't be exactly right all of the time, we assume that using this method to guess a value for likes will *on average* be closer than any other guess."
   ]
  }
 ],
 "metadata": {
  "kernelspec": {
   "display_name": "Python 3",
   "language": "python",
   "name": "python3"
  },
  "language_info": {
   "codemirror_mode": {
    "name": "ipython",
    "version": 3
   },
   "file_extension": ".py",
   "mimetype": "text/x-python",
   "name": "python",
   "nbconvert_exporter": "python",
   "pygments_lexer": "ipython3",
   "version": "3.6.4"
  }
 },
 "nbformat": 4,
 "nbformat_minor": 1
}
