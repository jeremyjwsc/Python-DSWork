{
 "cells": [
  {
   "cell_type": "markdown",
   "metadata": {},
   "source": [
    "Python Data Tools\n",
    "==="
   ]
  },
  {
   "cell_type": "code",
   "execution_count": 1,
   "metadata": {},
   "outputs": [],
   "source": [
    "#necessary in order to view plots in ipython notebook\n",
    "%matplotlib inline\n",
    "\n",
    "import numpy"
   ]
  },
  {
   "cell_type": "markdown",
   "metadata": {},
   "source": [
    "Where numpy is the name of the library we've just imported. Each time we use a class or function from an imported library, we'll need to specify which library it comes from. For instance, to use the `rand` method from numpy's `random` module:"
   ]
  },
  {
   "cell_type": "code",
   "execution_count": 2,
   "metadata": {},
   "outputs": [
    {
     "data": {
      "text/plain": [
       "array([ 0.96499052,  0.58450056,  0.79463451,  0.72083158])"
      ]
     },
     "execution_count": 2,
     "metadata": {},
     "output_type": "execute_result"
    }
   ],
   "source": [
    "numpy.random.rand(4)"
   ]
  },
  {
   "cell_type": "markdown",
   "metadata": {},
   "source": [
    "Because we reference the library name so often, it's common to create an alias for the library name. We can specify the alias as part of the import statement:"
   ]
  },
  {
   "cell_type": "code",
   "execution_count": 3,
   "metadata": {},
   "outputs": [],
   "source": [
    "import numpy as np"
   ]
  },
  {
   "cell_type": "markdown",
   "metadata": {},
   "source": [
    "Now, we can reference the numpy library using the alias:"
   ]
  },
  {
   "cell_type": "code",
   "execution_count": 4,
   "metadata": {},
   "outputs": [
    {
     "data": {
      "text/plain": [
       "array([ 0.68121795,  0.5544354 ,  0.9831872 ,  0.69944449])"
      ]
     },
     "execution_count": 4,
     "metadata": {},
     "output_type": "execute_result"
    }
   ],
   "source": [
    "np.random.rand(4)"
   ]
  },
  {
   "cell_type": "markdown",
   "metadata": {},
   "source": [
    "Numpy\n",
    "---\n",
    "The numpy library provides a set of tools for creating, manipulating, and operating on multi-dimensional arrays. Many of the operations available from the numpy library could also be performed using python's built in math library and for loops. However, numpy makes these operations easier to perform and executes them *much* more efficiently.\n",
    "\n",
    "**Exercise 1.1:** \n",
    "\n",
    "Below we use numpy to create a sine wave from a 1,000,000 element array. Perform the same operation using a combination of a list, a for-loop, and the math.sin method. A timer is provided so you can record the execution time and compare the results."
   ]
  },
  {
   "cell_type": "code",
   "execution_count": 5,
   "metadata": {},
   "outputs": [
    {
     "name": "stdout",
     "output_type": "stream",
     "text": [
      "x is a 1000000 element array\n",
      "this operation took 0.061228 seconds\n",
      "this operation took 0.000054 seconds\n"
     ]
    }
   ],
   "source": [
    "import time\n",
    "import numpy as np\n",
    "import math\n",
    "\n",
    "x = np.arange(0, 10, 0.00001)\n",
    "print('x is a %d element array' % len(x))\n",
    "\n",
    "t0 = time.time()\n",
    "y_np = np.sin(x)+np.cos(x)\n",
    "print('this operation took %f seconds' % (time.time()-t0))\n",
    "\n",
    "t0 = time.time()\n",
    "# put your code here\n",
    "print('this operation took %f seconds' % (time.time()-t0))"
   ]
  },
  {
   "cell_type": "markdown",
   "metadata": {},
   "source": [
    "In the exercise above you should have seen that with 1 million element array, numpy is around 10 times faster than a for-loop (try the same exercise with arrays of different sizes to see how your results vary).\n",
    "\n",
    "Numpy is also great for working with multi-dimensional arrays and matrices. Let's look at an example in which we have a 12 element 1-dimensional array that we'd like to convert into a 4x3 2-dimensional array."
   ]
  },
  {
   "cell_type": "code",
   "execution_count": 6,
   "metadata": {},
   "outputs": [
    {
     "data": {
      "text/plain": [
       "array([ 1,  2,  3,  4,  5,  6,  7,  8,  9, 10, 11, 12])"
      ]
     },
     "execution_count": 6,
     "metadata": {},
     "output_type": "execute_result"
    }
   ],
   "source": [
    "import numpy as np\n",
    "a = np.arange(1, 13)\n",
    "a"
   ]
  },
  {
   "cell_type": "code",
   "execution_count": 7,
   "metadata": {},
   "outputs": [
    {
     "data": {
      "text/plain": [
       "array([[ 1,  2,  3],\n",
       "       [ 4,  5,  6],\n",
       "       [ 7,  8,  9],\n",
       "       [10, 11, 12]])"
      ]
     },
     "execution_count": 7,
     "metadata": {},
     "output_type": "execute_result"
    }
   ],
   "source": [
    "a = a.reshape(4, 3)\n",
    "a"
   ]
  },
  {
   "cell_type": "markdown",
   "metadata": {},
   "source": [
    "Numpy also provides a way to select elements and slices of an array by their indices:"
   ]
  },
  {
   "cell_type": "code",
   "execution_count": 8,
   "metadata": {},
   "outputs": [
    {
     "data": {
      "text/plain": [
       "2"
      ]
     },
     "execution_count": 8,
     "metadata": {},
     "output_type": "execute_result"
    }
   ],
   "source": [
    "a[0, 1]  # gets the element in the first row and second column"
   ]
  },
  {
   "cell_type": "code",
   "execution_count": 9,
   "metadata": {},
   "outputs": [
    {
     "data": {
      "text/plain": [
       "array([ 2,  5,  8, 11])"
      ]
     },
     "execution_count": 9,
     "metadata": {},
     "output_type": "execute_result"
    }
   ],
   "source": [
    "a[:, 1]  # gets the array of elements in the second column"
   ]
  },
  {
   "cell_type": "code",
   "execution_count": 10,
   "metadata": {},
   "outputs": [
    {
     "data": {
      "text/plain": [
       "array([[1, 2],\n",
       "       [4, 5]])"
      ]
     },
     "execution_count": 10,
     "metadata": {},
     "output_type": "execute_result"
    }
   ],
   "source": [
    "a[0:2, 0:2]  # gets the top left 2x2 square of elements"
   ]
  },
  {
   "cell_type": "markdown",
   "metadata": {},
   "source": [
    "Numpy also allows us to perform boolean operations on an array *and* to use an array of boolean values to select certain elements from an array. Below we use a boolean operation to determine if each element in the array is even (by checking whether it is divisible by 2). Then we use numpy's boolean indexing feature to set all even elements to zero."
   ]
  },
  {
   "cell_type": "code",
   "execution_count": 11,
   "metadata": {},
   "outputs": [
    {
     "data": {
      "text/plain": [
       "array([[False,  True, False],\n",
       "       [ True, False,  True],\n",
       "       [False,  True, False],\n",
       "       [ True, False,  True]], dtype=bool)"
      ]
     },
     "execution_count": 11,
     "metadata": {},
     "output_type": "execute_result"
    }
   ],
   "source": [
    "a%2 == 0  # modulus 2 is 0 for odd numbers"
   ]
  },
  {
   "cell_type": "code",
   "execution_count": 12,
   "metadata": {},
   "outputs": [
    {
     "data": {
      "text/plain": [
       "array([[ 1,  0,  3],\n",
       "       [ 0,  5,  0],\n",
       "       [ 7,  0,  9],\n",
       "       [ 0, 11,  0]])"
      ]
     },
     "execution_count": 12,
     "metadata": {},
     "output_type": "execute_result"
    }
   ],
   "source": [
    "a[a%2 == 0] = 0  # set all even numbers to 0\n",
    "a"
   ]
  },
  {
   "cell_type": "markdown",
   "metadata": {},
   "source": [
    "We won't cover all of what numpy can do in this module (including it's very useful matrix operations), but you can get a more thorough introduction here: http://wiki.scipy.org/Tentative_NumPy_Tutorial"
   ]
  },
  {
   "cell_type": "markdown",
   "metadata": {},
   "source": [
    "Pandas\n",
    "---\n",
    "The numpy library treats a 2-dimensional array as an array of arrays. This has the advantage of being efficient but the disadvantage being somewhat cumbersome to work with. In most cases a 2-dimensional array is a collection of data points where each row represents an observation and each column represents a different feature that has been observed.\n",
    "\n",
    "The pandas library stores data in a way that is more congruent with the observation/feature (or row/column) way of thinking about a data set. It provides: \n",
    "1. a *high level interface* to numpy arrays that is much more intuitive and easier to work with and\n",
    "2. a *set of tools* that make every step in the data science pipeline easier to perform\n",
    "\n",
    "Where the base structure of numpy is an array, the base structure of pandas is a dataframe. The two object are very similar, but the pandas dataframe has the advantages of:\n",
    "1. allowing different data types in a single dataframe and\n",
    "2. providing labels for both rows and columns\n",
    "\n",
    "The labeling is particularly useful for columns, as each column typically represents a different feature.  In the example below we take a weeks worth of daily stock data (open and close prices), initially putting it into a numpy array, and then into a pandas dataframe.\n"
   ]
  },
  {
   "cell_type": "code",
   "execution_count": 13,
   "metadata": {},
   "outputs": [
    {
     "data": {
      "text/plain": [
       "array([[ 563.3,  553.2],\n",
       "       [ 556.6,  549.1],\n",
       "       [ 554.8,  548.9],\n",
       "       [ 556.8,  542.7],\n",
       "       [ 555.3,  544.5],\n",
       "       [ 552.2,  546.4],\n",
       "       [ 558.2,  545.5]])"
      ]
     },
     "execution_count": 13,
     "metadata": {},
     "output_type": "execute_result"
    }
   ],
   "source": [
    "import pandas as pd\n",
    "data_np = np.array([\n",
    "    [563.3, 553.2],\n",
    "    [556.6, 549.1],\n",
    "    [554.8, 548.9],\n",
    "    [556.8, 542.7],\n",
    "    [555.3, 544.5],\n",
    "    [552.2, 546.4],\n",
    "    [558.2, 545.5]\n",
    "])\n",
    "columns = [['high', 'low']]\n",
    "dates = np.array(['3/10', '3/11', '3/12', '3/13', '3/16','3/17', '3/18'])\n",
    "data_np"
   ]
  },
  {
   "cell_type": "code",
   "execution_count": 14,
   "metadata": {},
   "outputs": [
    {
     "data": {
      "text/html": [
       "<div>\n",
       "<table border=\"1\" class=\"dataframe\">\n",
       "  <thead>\n",
       "    <tr style=\"text-align: right;\">\n",
       "      <th></th>\n",
       "      <th>high</th>\n",
       "      <th>low</th>\n",
       "    </tr>\n",
       "  </thead>\n",
       "  <tbody>\n",
       "    <tr>\n",
       "      <th>3/10</th>\n",
       "      <td>563.3</td>\n",
       "      <td>553.2</td>\n",
       "    </tr>\n",
       "    <tr>\n",
       "      <th>3/11</th>\n",
       "      <td>556.6</td>\n",
       "      <td>549.1</td>\n",
       "    </tr>\n",
       "    <tr>\n",
       "      <th>3/12</th>\n",
       "      <td>554.8</td>\n",
       "      <td>548.9</td>\n",
       "    </tr>\n",
       "    <tr>\n",
       "      <th>3/13</th>\n",
       "      <td>556.8</td>\n",
       "      <td>542.7</td>\n",
       "    </tr>\n",
       "    <tr>\n",
       "      <th>3/16</th>\n",
       "      <td>555.3</td>\n",
       "      <td>544.5</td>\n",
       "    </tr>\n",
       "    <tr>\n",
       "      <th>3/17</th>\n",
       "      <td>552.2</td>\n",
       "      <td>546.4</td>\n",
       "    </tr>\n",
       "    <tr>\n",
       "      <th>3/18</th>\n",
       "      <td>558.2</td>\n",
       "      <td>545.5</td>\n",
       "    </tr>\n",
       "  </tbody>\n",
       "</table>\n",
       "</div>"
      ],
      "text/plain": [
       "       high    low\n",
       "3/10  563.3  553.2\n",
       "3/11  556.6  549.1\n",
       "3/12  554.8  548.9\n",
       "3/13  556.8  542.7\n",
       "3/16  555.3  544.5\n",
       "3/17  552.2  546.4\n",
       "3/18  558.2  545.5"
      ]
     },
     "execution_count": 14,
     "metadata": {},
     "output_type": "execute_result"
    }
   ],
   "source": [
    "data_pd = pd.DataFrame(data_np, columns=columns, index=dates)\n",
    "data_pd"
   ]
  },
  {
   "cell_type": "markdown",
   "metadata": {},
   "source": [
    "Notice that we need three different variables to fully describe the data with numpy and only one with pandas. Furthermore, pandas comes with a large set of tools for operating on dataframes. Let's say we wanted to sort our data by the low price:"
   ]
  },
  {
   "cell_type": "code",
   "execution_count": 15,
   "metadata": {},
   "outputs": [
    {
     "data": {
      "text/html": [
       "<div>\n",
       "<table border=\"1\" class=\"dataframe\">\n",
       "  <thead>\n",
       "    <tr style=\"text-align: right;\">\n",
       "      <th></th>\n",
       "      <th>high</th>\n",
       "      <th>low</th>\n",
       "    </tr>\n",
       "  </thead>\n",
       "  <tbody>\n",
       "    <tr>\n",
       "      <th>3/13</th>\n",
       "      <td>556.8</td>\n",
       "      <td>542.7</td>\n",
       "    </tr>\n",
       "    <tr>\n",
       "      <th>3/16</th>\n",
       "      <td>555.3</td>\n",
       "      <td>544.5</td>\n",
       "    </tr>\n",
       "    <tr>\n",
       "      <th>3/18</th>\n",
       "      <td>558.2</td>\n",
       "      <td>545.5</td>\n",
       "    </tr>\n",
       "    <tr>\n",
       "      <th>3/17</th>\n",
       "      <td>552.2</td>\n",
       "      <td>546.4</td>\n",
       "    </tr>\n",
       "    <tr>\n",
       "      <th>3/12</th>\n",
       "      <td>554.8</td>\n",
       "      <td>548.9</td>\n",
       "    </tr>\n",
       "    <tr>\n",
       "      <th>3/11</th>\n",
       "      <td>556.6</td>\n",
       "      <td>549.1</td>\n",
       "    </tr>\n",
       "    <tr>\n",
       "      <th>3/10</th>\n",
       "      <td>563.3</td>\n",
       "      <td>553.2</td>\n",
       "    </tr>\n",
       "  </tbody>\n",
       "</table>\n",
       "</div>"
      ],
      "text/plain": [
       "       high    low\n",
       "3/13  556.8  542.7\n",
       "3/16  555.3  544.5\n",
       "3/18  558.2  545.5\n",
       "3/17  552.2  546.4\n",
       "3/12  554.8  548.9\n",
       "3/11  556.6  549.1\n",
       "3/10  563.3  553.2"
      ]
     },
     "execution_count": 15,
     "metadata": {},
     "output_type": "execute_result"
    }
   ],
   "source": [
    "data_pd.sort_values(by=\"low\")"
   ]
  },
  {
   "cell_type": "markdown",
   "metadata": {},
   "source": [
    "Or suppose we have another dataset of open and close prices that we'd like to join with our existing data set:"
   ]
  },
  {
   "cell_type": "code",
   "execution_count": 16,
   "metadata": {},
   "outputs": [
    {
     "data": {
      "text/html": [
       "<div>\n",
       "<table border=\"1\" class=\"dataframe\">\n",
       "  <thead>\n",
       "    <tr style=\"text-align: right;\">\n",
       "      <th></th>\n",
       "      <th>open</th>\n",
       "      <th>close</th>\n",
       "    </tr>\n",
       "  </thead>\n",
       "  <tbody>\n",
       "    <tr>\n",
       "      <th>3/11</th>\n",
       "      <td>553.6</td>\n",
       "      <td>549.6</td>\n",
       "    </tr>\n",
       "    <tr>\n",
       "      <th>3/12</th>\n",
       "      <td>551.9</td>\n",
       "      <td>553.9</td>\n",
       "    </tr>\n",
       "    <tr>\n",
       "      <th>3/13</th>\n",
       "      <td>551.9</td>\n",
       "      <td>545.8</td>\n",
       "    </tr>\n",
       "    <tr>\n",
       "      <th>3/16</th>\n",
       "      <td>549.4</td>\n",
       "      <td>552.9</td>\n",
       "    </tr>\n",
       "    <tr>\n",
       "      <th>3/17</th>\n",
       "      <td>550.1</td>\n",
       "      <td>549.3</td>\n",
       "    </tr>\n",
       "    <tr>\n",
       "      <th>3/18</th>\n",
       "      <td>550.9</td>\n",
       "      <td>557.9</td>\n",
       "    </tr>\n",
       "    <tr>\n",
       "      <th>3/19</th>\n",
       "      <td>557.8</td>\n",
       "      <td>556.4</td>\n",
       "    </tr>\n",
       "    <tr>\n",
       "      <th>3/20</th>\n",
       "      <td>560.1</td>\n",
       "      <td>558.8</td>\n",
       "    </tr>\n",
       "  </tbody>\n",
       "</table>\n",
       "</div>"
      ],
      "text/plain": [
       "       open  close\n",
       "3/11  553.6  549.6\n",
       "3/12  551.9  553.9\n",
       "3/13  551.9  545.8\n",
       "3/16  549.4  552.9\n",
       "3/17  550.1  549.3\n",
       "3/18  550.9  557.9\n",
       "3/19  557.8  556.4\n",
       "3/20  560.1  558.8"
      ]
     },
     "execution_count": 16,
     "metadata": {},
     "output_type": "execute_result"
    }
   ],
   "source": [
    "df2 = pd.DataFrame([\n",
    "        [553.6, 549.6],\n",
    "        [551.9, 553.9 ],\n",
    "        [551.9, 545.8],\n",
    "        [549.4, 552.9],\n",
    "        [550.1, 549.3],\n",
    "        [550.9, 557.9],\n",
    "        [557.8, 556.4],\n",
    "        [560.1, 558.8]\n",
    "    ], \n",
    "    columns=['open', 'close'],\n",
    "    index=['3/11', '3/12', '3/13', '3/16','3/17', '3/18', '3/19', '3/20']\n",
    ")\n",
    "df2"
   ]
  },
  {
   "cell_type": "markdown",
   "metadata": {},
   "source": [
    "Notice that the dates for data_pd and df2 don't quite match. This might be a significant annoyance if we had to write a custom function to join these two dataframes, but fortunately we don't because pandas has a tool to do it for us:"
   ]
  },
  {
   "cell_type": "code",
   "execution_count": 17,
   "metadata": {},
   "outputs": [
    {
     "data": {
      "text/html": [
       "<div>\n",
       "<table border=\"1\" class=\"dataframe\">\n",
       "  <thead>\n",
       "    <tr style=\"text-align: right;\">\n",
       "      <th></th>\n",
       "      <th>high</th>\n",
       "      <th>low</th>\n",
       "      <th>open</th>\n",
       "      <th>close</th>\n",
       "    </tr>\n",
       "  </thead>\n",
       "  <tbody>\n",
       "    <tr>\n",
       "      <th>3/10</th>\n",
       "      <td>563.3</td>\n",
       "      <td>553.2</td>\n",
       "      <td>NaN</td>\n",
       "      <td>NaN</td>\n",
       "    </tr>\n",
       "    <tr>\n",
       "      <th>3/11</th>\n",
       "      <td>556.6</td>\n",
       "      <td>549.1</td>\n",
       "      <td>553.6</td>\n",
       "      <td>549.6</td>\n",
       "    </tr>\n",
       "    <tr>\n",
       "      <th>3/12</th>\n",
       "      <td>554.8</td>\n",
       "      <td>548.9</td>\n",
       "      <td>551.9</td>\n",
       "      <td>553.9</td>\n",
       "    </tr>\n",
       "    <tr>\n",
       "      <th>3/13</th>\n",
       "      <td>556.8</td>\n",
       "      <td>542.7</td>\n",
       "      <td>551.9</td>\n",
       "      <td>545.8</td>\n",
       "    </tr>\n",
       "    <tr>\n",
       "      <th>3/16</th>\n",
       "      <td>555.3</td>\n",
       "      <td>544.5</td>\n",
       "      <td>549.4</td>\n",
       "      <td>552.9</td>\n",
       "    </tr>\n",
       "    <tr>\n",
       "      <th>3/17</th>\n",
       "      <td>552.2</td>\n",
       "      <td>546.4</td>\n",
       "      <td>550.1</td>\n",
       "      <td>549.3</td>\n",
       "    </tr>\n",
       "    <tr>\n",
       "      <th>3/18</th>\n",
       "      <td>558.2</td>\n",
       "      <td>545.5</td>\n",
       "      <td>550.9</td>\n",
       "      <td>557.9</td>\n",
       "    </tr>\n",
       "    <tr>\n",
       "      <th>3/19</th>\n",
       "      <td>NaN</td>\n",
       "      <td>NaN</td>\n",
       "      <td>557.8</td>\n",
       "      <td>556.4</td>\n",
       "    </tr>\n",
       "    <tr>\n",
       "      <th>3/20</th>\n",
       "      <td>NaN</td>\n",
       "      <td>NaN</td>\n",
       "      <td>560.1</td>\n",
       "      <td>558.8</td>\n",
       "    </tr>\n",
       "  </tbody>\n",
       "</table>\n",
       "</div>"
      ],
      "text/plain": [
       "       high    low   open  close\n",
       "3/10  563.3  553.2    NaN    NaN\n",
       "3/11  556.6  549.1  553.6  549.6\n",
       "3/12  554.8  548.9  551.9  553.9\n",
       "3/13  556.8  542.7  551.9  545.8\n",
       "3/16  555.3  544.5  549.4  552.9\n",
       "3/17  552.2  546.4  550.1  549.3\n",
       "3/18  558.2  545.5  550.9  557.9\n",
       "3/19    NaN    NaN  557.8  556.4\n",
       "3/20    NaN    NaN  560.1  558.8"
      ]
     },
     "execution_count": 17,
     "metadata": {},
     "output_type": "execute_result"
    }
   ],
   "source": [
    "df_joined = data_pd.join(df2, how='outer')\n",
    "df_joined"
   ]
  },
  {
   "cell_type": "markdown",
   "metadata": {},
   "source": [
    "Pandas even has a tool for plotting your data in a jupyter notebook:"
   ]
  },
  {
   "cell_type": "code",
   "execution_count": 18,
   "metadata": {},
   "outputs": [
    {
     "data": {
      "text/plain": [
       "<matplotlib.axes._subplots.AxesSubplot at 0x1108a1590>"
      ]
     },
     "execution_count": 18,
     "metadata": {},
     "output_type": "execute_result"
    },
    {
     "data": {
      "image/png": "[encoded data removed]",
      "text/plain": [
       "<matplotlib.figure.Figure at 0x1108a1c90>"
      ]
     },
     "metadata": {},
     "output_type": "display_data"
    }
   ],
   "source": [
    "# this line is necessary to view plots in jupyter notebooks\n",
    "%matplotlib inline\n",
    "\n",
    "df_joined.plot()"
   ]
  },
  {
   "cell_type": "code",
   "execution_count": 19,
   "metadata": {},
   "outputs": [
    {
     "data": {
      "text/plain": [
       "<matplotlib.axes._subplots.AxesSubplot at 0x110928a90>"
      ]
     },
     "execution_count": 19,
     "metadata": {},
     "output_type": "execute_result"
    },
    {
     "data": {
      "image/png": "[encoded data removed]",
      "text/plain": [
       "<matplotlib.figure.Figure at 0x10d9bf050>"
      ]
     },
     "metadata": {},
     "output_type": "display_data"
    }
   ],
   "source": [
    "df_joined.plot()"
   ]
  },
  {
   "cell_type": "markdown",
   "metadata": {},
   "source": [
    "Selecting data\n",
    "--\n",
    "**The .ix operator**\n",
    "\n",
    "You can slice a pandas dataframe in the same way you slice a numpy array using the `.ix` operator:"
   ]
  },
  {
   "cell_type": "code",
   "execution_count": 20,
   "metadata": {},
   "outputs": [
    {
     "data": {
      "text/html": [
       "<div>\n",
       "<table border=\"1\" class=\"dataframe\">\n",
       "  <thead>\n",
       "    <tr style=\"text-align: right;\">\n",
       "      <th></th>\n",
       "      <th>low</th>\n",
       "      <th>open</th>\n",
       "    </tr>\n",
       "  </thead>\n",
       "  <tbody>\n",
       "    <tr>\n",
       "      <th>3/11</th>\n",
       "      <td>549.1</td>\n",
       "      <td>553.6</td>\n",
       "    </tr>\n",
       "    <tr>\n",
       "      <th>3/12</th>\n",
       "      <td>548.9</td>\n",
       "      <td>551.9</td>\n",
       "    </tr>\n",
       "    <tr>\n",
       "      <th>3/13</th>\n",
       "      <td>542.7</td>\n",
       "      <td>551.9</td>\n",
       "    </tr>\n",
       "  </tbody>\n",
       "</table>\n",
       "</div>"
      ],
      "text/plain": [
       "        low   open\n",
       "3/11  549.1  553.6\n",
       "3/12  548.9  551.9\n",
       "3/13  542.7  551.9"
      ]
     },
     "execution_count": 20,
     "metadata": {},
     "output_type": "execute_result"
    }
   ],
   "source": [
    "df_joined.ix[1:4, 1:3]"
   ]
  },
  {
   "cell_type": "markdown",
   "metadata": {},
   "source": [
    "The `.ix` operator works just like selection on numpy arrays. You can select a subset of both rows and columns (as done above), or select a single row or column (shown below)"
   ]
  },
  {
   "cell_type": "code",
   "execution_count": 21,
   "metadata": {},
   "outputs": [
    {
     "data": {
      "text/plain": [
       "high     556.6\n",
       "low      549.1\n",
       "open     553.6\n",
       "close    549.6\n",
       "Name: 3/11, dtype: float64"
      ]
     },
     "execution_count": 21,
     "metadata": {},
     "output_type": "execute_result"
    }
   ],
   "source": [
    "# not specifying the start or end index, defaults to the first and last index\n",
    "df_joined.ix[1,:]"
   ]
  },
  {
   "cell_type": "code",
   "execution_count": 22,
   "metadata": {},
   "outputs": [
    {
     "data": {
      "text/plain": [
       "3/11    549.1\n",
       "3/12    548.9\n",
       "Name: low, dtype: float64"
      ]
     },
     "execution_count": 22,
     "metadata": {},
     "output_type": "execute_result"
    }
   ],
   "source": [
    "df_joined.ix[1:3,1]"
   ]
  },
  {
   "cell_type": "markdown",
   "metadata": {},
   "source": [
    "When you select a single row or column, you get back a pandas Series object, which is a labeled 1-dimensional array similar to a python dictionary."
   ]
  },
  {
   "cell_type": "code",
   "execution_count": 23,
   "metadata": {},
   "outputs": [
    {
     "data": {
      "text/plain": [
       "563.29999999999995"
      ]
     },
     "execution_count": 23,
     "metadata": {},
     "output_type": "execute_result"
    }
   ],
   "source": [
    "# df_joined_one_row is a Series object, all columns, but only the first row\n",
    "df_joined_one_row = df_joined.ix[0,:]\n",
    "\n",
    "# we access a particular value just as if it were a dictionary\n",
    "df_joined_one_row['high']"
   ]
  },
  {
   "cell_type": "markdown",
   "metadata": {},
   "source": [
    "**The .loc operator**\n",
    "\n",
    "The more common way to select data is by label using the `.loc` operator. The `.loc` operator can take \n",
    "- a single label:"
   ]
  },
  {
   "cell_type": "code",
   "execution_count": 24,
   "metadata": {},
   "outputs": [
    {
     "data": {
      "text/plain": [
       "553.20000000000005"
      ]
     },
     "execution_count": 24,
     "metadata": {},
     "output_type": "execute_result"
    }
   ],
   "source": [
    "df_joined.loc['3/10', 'low']  # select the \"low\" value from 3/10"
   ]
  },
  {
   "cell_type": "markdown",
   "metadata": {},
   "source": [
    "- a list or array of labels"
   ]
  },
  {
   "cell_type": "code",
   "execution_count": 25,
   "metadata": {},
   "outputs": [
    {
     "data": {
      "text/plain": [
       "low      549.1\n",
       "high     556.6\n",
       "close    549.6\n",
       "Name: 3/11, dtype: float64"
      ]
     },
     "execution_count": 25,
     "metadata": {},
     "output_type": "execute_result"
    }
   ],
   "source": [
    "# select the \"low\", \"high\", and \"close\" values from 3/11\n",
    "df_joined.loc['3/11', ['low', 'high', 'close']]"
   ]
  },
  {
   "cell_type": "markdown",
   "metadata": {},
   "source": [
    "- a label slice object"
   ]
  },
  {
   "cell_type": "code",
   "execution_count": 26,
   "metadata": {},
   "outputs": [
    {
     "data": {
      "text/plain": [
       "3/10    553.2\n",
       "3/11    549.1\n",
       "3/12    548.9\n",
       "3/13    542.7\n",
       "Name: low, dtype: float64"
      ]
     },
     "execution_count": 26,
     "metadata": {},
     "output_type": "execute_result"
    }
   ],
   "source": [
    "df_joined.loc['3/10':'3/13', 'low']"
   ]
  },
  {
   "cell_type": "markdown",
   "metadata": {},
   "source": [
    "- a boolean array or boolean series"
   ]
  },
  {
   "cell_type": "code",
   "execution_count": 27,
   "metadata": {},
   "outputs": [
    {
     "data": {
      "text/html": [
       "<div>\n",
       "<table border=\"1\" class=\"dataframe\">\n",
       "  <thead>\n",
       "    <tr style=\"text-align: right;\">\n",
       "      <th></th>\n",
       "      <th>high</th>\n",
       "      <th>low</th>\n",
       "      <th>open</th>\n",
       "      <th>close</th>\n",
       "    </tr>\n",
       "  </thead>\n",
       "  <tbody>\n",
       "    <tr>\n",
       "      <th>3/12</th>\n",
       "      <td>554.8</td>\n",
       "      <td>548.9</td>\n",
       "      <td>551.9</td>\n",
       "      <td>553.9</td>\n",
       "    </tr>\n",
       "    <tr>\n",
       "      <th>3/16</th>\n",
       "      <td>555.3</td>\n",
       "      <td>544.5</td>\n",
       "      <td>549.4</td>\n",
       "      <td>552.9</td>\n",
       "    </tr>\n",
       "    <tr>\n",
       "      <th>3/17</th>\n",
       "      <td>552.2</td>\n",
       "      <td>546.4</td>\n",
       "      <td>550.1</td>\n",
       "      <td>549.3</td>\n",
       "    </tr>\n",
       "  </tbody>\n",
       "</table>\n",
       "</div>"
      ],
      "text/plain": [
       "       high    low   open  close\n",
       "3/12  554.8  548.9  551.9  553.9\n",
       "3/16  555.3  544.5  549.4  552.9\n",
       "3/17  552.2  546.4  550.1  549.3"
      ]
     },
     "execution_count": 27,
     "metadata": {},
     "output_type": "execute_result"
    }
   ],
   "source": [
    "# returns a boolean series which is True where the high value is less than 556 and False otherwise\n",
    "bool_array = df_joined.loc[:, 'high'] < 556\n",
    "\n",
    "# uses the boolean series above to select the \"True\" rows\n",
    "df_joined.loc[bool_array, :]"
   ]
  },
  {
   "cell_type": "markdown",
   "metadata": {},
   "source": [
    "- or any combination of the above"
   ]
  },
  {
   "cell_type": "code",
   "execution_count": 28,
   "metadata": {},
   "outputs": [
    {
     "data": {
      "text/html": [
       "<div>\n",
       "<table border=\"1\" class=\"dataframe\">\n",
       "  <thead>\n",
       "    <tr style=\"text-align: right;\">\n",
       "      <th></th>\n",
       "      <th>low</th>\n",
       "      <th>high</th>\n",
       "    </tr>\n",
       "  </thead>\n",
       "  <tbody>\n",
       "    <tr>\n",
       "      <th>3/10</th>\n",
       "      <td>553.2</td>\n",
       "      <td>563.3</td>\n",
       "    </tr>\n",
       "    <tr>\n",
       "      <th>3/11</th>\n",
       "      <td>549.1</td>\n",
       "      <td>556.6</td>\n",
       "    </tr>\n",
       "    <tr>\n",
       "      <th>3/12</th>\n",
       "      <td>548.9</td>\n",
       "      <td>554.8</td>\n",
       "    </tr>\n",
       "    <tr>\n",
       "      <th>3/13</th>\n",
       "      <td>542.7</td>\n",
       "      <td>556.8</td>\n",
       "    </tr>\n",
       "  </tbody>\n",
       "</table>\n",
       "</div>"
      ],
      "text/plain": [
       "        low   high\n",
       "3/10  553.2  563.3\n",
       "3/11  549.1  556.6\n",
       "3/12  548.9  554.8\n",
       "3/13  542.7  556.8"
      ]
     },
     "execution_count": 28,
     "metadata": {},
     "output_type": "execute_result"
    }
   ],
   "source": [
    "df_joined.loc['3/10':'3/13', ['low', 'high']]"
   ]
  },
  {
   "cell_type": "markdown",
   "metadata": {},
   "source": [
    "Pandas has a few more selection operators, including a `.query` operator that allows you to [select data with sql-like syntax](http://pandas.pydata.org/pandas-docs/stable/indexing.html#the-query-method-experimental). I won't cover all of those operators in this module, but you can read more [here](http://pandas.pydata.org/pandas-docs/stable/indexing.html)."
   ]
  },
  {
   "cell_type": "markdown",
   "metadata": {},
   "source": [
    "Creating a dataframe\n",
    "---\n",
    "We've seen above that we can create a dataframe from a numpy array or from a list of lists. In both cases we have to also specify the column labels and the index labels. Neither labels are *required*, and if we don't specify them pandas defaults to integer index labels."
   ]
  },
  {
   "cell_type": "code",
   "execution_count": 29,
   "metadata": {},
   "outputs": [
    {
     "data": {
      "text/html": [
       "<div>\n",
       "<table border=\"1\" class=\"dataframe\">\n",
       "  <thead>\n",
       "    <tr style=\"text-align: right;\">\n",
       "      <th></th>\n",
       "      <th>0</th>\n",
       "      <th>1</th>\n",
       "    </tr>\n",
       "  </thead>\n",
       "  <tbody>\n",
       "    <tr>\n",
       "      <th>0</th>\n",
       "      <td>563.3</td>\n",
       "      <td>553.2</td>\n",
       "    </tr>\n",
       "    <tr>\n",
       "      <th>1</th>\n",
       "      <td>556.6</td>\n",
       "      <td>549.1</td>\n",
       "    </tr>\n",
       "    <tr>\n",
       "      <th>2</th>\n",
       "      <td>554.8</td>\n",
       "      <td>548.9</td>\n",
       "    </tr>\n",
       "    <tr>\n",
       "      <th>3</th>\n",
       "      <td>556.8</td>\n",
       "      <td>542.7</td>\n",
       "    </tr>\n",
       "    <tr>\n",
       "      <th>4</th>\n",
       "      <td>555.3</td>\n",
       "      <td>544.5</td>\n",
       "    </tr>\n",
       "    <tr>\n",
       "      <th>5</th>\n",
       "      <td>552.2</td>\n",
       "      <td>546.4</td>\n",
       "    </tr>\n",
       "    <tr>\n",
       "      <th>6</th>\n",
       "      <td>558.2</td>\n",
       "      <td>545.5</td>\n",
       "    </tr>\n",
       "  </tbody>\n",
       "</table>\n",
       "</div>"
      ],
      "text/plain": [
       "       0      1\n",
       "0  563.3  553.2\n",
       "1  556.6  549.1\n",
       "2  554.8  548.9\n",
       "3  556.8  542.7\n",
       "4  555.3  544.5\n",
       "5  552.2  546.4\n",
       "6  558.2  545.5"
      ]
     },
     "execution_count": 29,
     "metadata": {},
     "output_type": "execute_result"
    }
   ],
   "source": [
    "pd.DataFrame(data_np)"
   ]
  },
  {
   "cell_type": "markdown",
   "metadata": {},
   "source": [
    "Integer index labels are oftentimes fine for rows, but you'll almost always want labels for your columns. You can also create a dataframe from a dictionary where the key is the desired column name and the value is a list of values for that column:"
   ]
  },
  {
   "cell_type": "code",
   "execution_count": 30,
   "metadata": {},
   "outputs": [
    {
     "data": {
      "text/html": [
       "<div>\n",
       "<table border=\"1\" class=\"dataframe\">\n",
       "  <thead>\n",
       "    <tr style=\"text-align: right;\">\n",
       "      <th></th>\n",
       "      <th>high</th>\n",
       "      <th>low</th>\n",
       "    </tr>\n",
       "  </thead>\n",
       "  <tbody>\n",
       "    <tr>\n",
       "      <th>0</th>\n",
       "      <td>563</td>\n",
       "      <td>553</td>\n",
       "    </tr>\n",
       "    <tr>\n",
       "      <th>1</th>\n",
       "      <td>556</td>\n",
       "      <td>549</td>\n",
       "    </tr>\n",
       "    <tr>\n",
       "      <th>2</th>\n",
       "      <td>554</td>\n",
       "      <td>548</td>\n",
       "    </tr>\n",
       "    <tr>\n",
       "      <th>3</th>\n",
       "      <td>556</td>\n",
       "      <td>542</td>\n",
       "    </tr>\n",
       "    <tr>\n",
       "      <th>4</th>\n",
       "      <td>555</td>\n",
       "      <td>544</td>\n",
       "    </tr>\n",
       "    <tr>\n",
       "      <th>5</th>\n",
       "      <td>552</td>\n",
       "      <td>546</td>\n",
       "    </tr>\n",
       "    <tr>\n",
       "      <th>6</th>\n",
       "      <td>558</td>\n",
       "      <td>545</td>\n",
       "    </tr>\n",
       "  </tbody>\n",
       "</table>\n",
       "</div>"
      ],
      "text/plain": [
       "   high  low\n",
       "0   563  553\n",
       "1   556  549\n",
       "2   554  548\n",
       "3   556  542\n",
       "4   555  544\n",
       "5   552  546\n",
       "6   558  545"
      ]
     },
     "execution_count": 30,
     "metadata": {},
     "output_type": "execute_result"
    }
   ],
   "source": [
    "data_dict = {'low': [553, 549, 548, 542, 544, 546, 545],\n",
    "             'high': [563, 556, 554, 556, 555, 552, 558]}\n",
    "pd.DataFrame(data_dict)"
   ]
  },
  {
   "cell_type": "markdown",
   "metadata": {},
   "source": [
    "Notice that if we don't specify the column order with the `columns` param when creating a dataframe from a dictionary, the columns will be ordered alphabetically.\n",
    "\n",
    "Pandas also has tools for dealing with dates."
   ]
  },
  {
   "cell_type": "code",
   "execution_count": 31,
   "metadata": {},
   "outputs": [
    {
     "data": {
      "text/plain": [
       "DatetimeIndex(['2015-03-10', '2015-03-11', '2015-03-12', '2015-03-13',\n",
       "               '2015-03-14', '2015-03-15', '2015-03-16'],\n",
       "              dtype='datetime64[ns]', freq='D')"
      ]
     },
     "execution_count": 31,
     "metadata": {},
     "output_type": "execute_result"
    }
   ],
   "source": [
    "dates = pd.date_range('2015-03-10', periods=7)\n",
    "dates"
   ]
  },
  {
   "cell_type": "code",
   "execution_count": 32,
   "metadata": {},
   "outputs": [
    {
     "data": {
      "text/html": [
       "<div>\n",
       "<table border=\"1\" class=\"dataframe\">\n",
       "  <thead>\n",
       "    <tr style=\"text-align: right;\">\n",
       "      <th></th>\n",
       "      <th>high</th>\n",
       "      <th>low</th>\n",
       "    </tr>\n",
       "  </thead>\n",
       "  <tbody>\n",
       "    <tr>\n",
       "      <th>2015-03-10</th>\n",
       "      <td>563.3</td>\n",
       "      <td>553.2</td>\n",
       "    </tr>\n",
       "    <tr>\n",
       "      <th>2015-03-11</th>\n",
       "      <td>556.6</td>\n",
       "      <td>549.1</td>\n",
       "    </tr>\n",
       "    <tr>\n",
       "      <th>2015-03-12</th>\n",
       "      <td>554.8</td>\n",
       "      <td>548.9</td>\n",
       "    </tr>\n",
       "    <tr>\n",
       "      <th>2015-03-13</th>\n",
       "      <td>556.8</td>\n",
       "      <td>542.7</td>\n",
       "    </tr>\n",
       "    <tr>\n",
       "      <th>2015-03-14</th>\n",
       "      <td>555.3</td>\n",
       "      <td>544.5</td>\n",
       "    </tr>\n",
       "    <tr>\n",
       "      <th>2015-03-15</th>\n",
       "      <td>552.2</td>\n",
       "      <td>546.4</td>\n",
       "    </tr>\n",
       "    <tr>\n",
       "      <th>2015-03-16</th>\n",
       "      <td>558.2</td>\n",
       "      <td>545.5</td>\n",
       "    </tr>\n",
       "  </tbody>\n",
       "</table>\n",
       "</div>"
      ],
      "text/plain": [
       "             high    low\n",
       "2015-03-10  563.3  553.2\n",
       "2015-03-11  556.6  549.1\n",
       "2015-03-12  554.8  548.9\n",
       "2015-03-13  556.8  542.7\n",
       "2015-03-14  555.3  544.5\n",
       "2015-03-15  552.2  546.4\n",
       "2015-03-16  558.2  545.5"
      ]
     },
     "execution_count": 32,
     "metadata": {},
     "output_type": "execute_result"
    }
   ],
   "source": [
    "df_with_dates = pd.DataFrame(data_np, columns=['high', 'low'], index=dates)\n",
    "df_with_dates"
   ]
  },
  {
   "cell_type": "markdown",
   "metadata": {},
   "source": [
    "Notice that the dates here are of type `datetime`, where before they were of type string. Having your dates as a `datetime` has several advantages. For one, a `datetime` object has *many* useful methods like getting the day of the week or finding the difference between to dates"
   ]
  },
  {
   "cell_type": "code",
   "execution_count": 33,
   "metadata": {},
   "outputs": [
    {
     "data": {
      "text/html": [
       "<div>\n",
       "<table border=\"1\" class=\"dataframe\">\n",
       "  <thead>\n",
       "    <tr style=\"text-align: right;\">\n",
       "      <th></th>\n",
       "      <th>high</th>\n",
       "      <th>low</th>\n",
       "      <th>day_of_week</th>\n",
       "    </tr>\n",
       "  </thead>\n",
       "  <tbody>\n",
       "    <tr>\n",
       "      <th>2015-03-10</th>\n",
       "      <td>563.3</td>\n",
       "      <td>553.2</td>\n",
       "      <td>1</td>\n",
       "    </tr>\n",
       "    <tr>\n",
       "      <th>2015-03-11</th>\n",
       "      <td>556.6</td>\n",
       "      <td>549.1</td>\n",
       "      <td>2</td>\n",
       "    </tr>\n",
       "    <tr>\n",
       "      <th>2015-03-12</th>\n",
       "      <td>554.8</td>\n",
       "      <td>548.9</td>\n",
       "      <td>3</td>\n",
       "    </tr>\n",
       "    <tr>\n",
       "      <th>2015-03-13</th>\n",
       "      <td>556.8</td>\n",
       "      <td>542.7</td>\n",
       "      <td>4</td>\n",
       "    </tr>\n",
       "    <tr>\n",
       "      <th>2015-03-14</th>\n",
       "      <td>555.3</td>\n",
       "      <td>544.5</td>\n",
       "      <td>5</td>\n",
       "    </tr>\n",
       "    <tr>\n",
       "      <th>2015-03-15</th>\n",
       "      <td>552.2</td>\n",
       "      <td>546.4</td>\n",
       "      <td>6</td>\n",
       "    </tr>\n",
       "    <tr>\n",
       "      <th>2015-03-16</th>\n",
       "      <td>558.2</td>\n",
       "      <td>545.5</td>\n",
       "      <td>0</td>\n",
       "    </tr>\n",
       "  </tbody>\n",
       "</table>\n",
       "</div>"
      ],
      "text/plain": [
       "             high    low  day_of_week\n",
       "2015-03-10  563.3  553.2            1\n",
       "2015-03-11  556.6  549.1            2\n",
       "2015-03-12  554.8  548.9            3\n",
       "2015-03-13  556.8  542.7            4\n",
       "2015-03-14  555.3  544.5            5\n",
       "2015-03-15  552.2  546.4            6\n",
       "2015-03-16  558.2  545.5            0"
      ]
     },
     "execution_count": 33,
     "metadata": {},
     "output_type": "execute_result"
    }
   ],
   "source": [
    "df_with_dates['day_of_week'] = dates.dayofweek\n",
    "df_with_dates"
   ]
  },
  {
   "cell_type": "code",
   "execution_count": 34,
   "metadata": {},
   "outputs": [
    {
     "data": {
      "text/html": [
       "<div>\n",
       "<table border=\"1\" class=\"dataframe\">\n",
       "  <thead>\n",
       "    <tr style=\"text-align: right;\">\n",
       "      <th></th>\n",
       "      <th>high</th>\n",
       "      <th>low</th>\n",
       "      <th>day_of_week</th>\n",
       "      <th>days_since_mar_10</th>\n",
       "    </tr>\n",
       "  </thead>\n",
       "  <tbody>\n",
       "    <tr>\n",
       "      <th>2015-03-10</th>\n",
       "      <td>563.3</td>\n",
       "      <td>553.2</td>\n",
       "      <td>1</td>\n",
       "      <td>0 days</td>\n",
       "    </tr>\n",
       "    <tr>\n",
       "      <th>2015-03-11</th>\n",
       "      <td>556.6</td>\n",
       "      <td>549.1</td>\n",
       "      <td>2</td>\n",
       "      <td>1 days</td>\n",
       "    </tr>\n",
       "    <tr>\n",
       "      <th>2015-03-12</th>\n",
       "      <td>554.8</td>\n",
       "      <td>548.9</td>\n",
       "      <td>3</td>\n",
       "      <td>2 days</td>\n",
       "    </tr>\n",
       "    <tr>\n",
       "      <th>2015-03-13</th>\n",
       "      <td>556.8</td>\n",
       "      <td>542.7</td>\n",
       "      <td>4</td>\n",
       "      <td>3 days</td>\n",
       "    </tr>\n",
       "    <tr>\n",
       "      <th>2015-03-14</th>\n",
       "      <td>555.3</td>\n",
       "      <td>544.5</td>\n",
       "      <td>5</td>\n",
       "      <td>4 days</td>\n",
       "    </tr>\n",
       "    <tr>\n",
       "      <th>2015-03-15</th>\n",
       "      <td>552.2</td>\n",
       "      <td>546.4</td>\n",
       "      <td>6</td>\n",
       "      <td>5 days</td>\n",
       "    </tr>\n",
       "    <tr>\n",
       "      <th>2015-03-16</th>\n",
       "      <td>558.2</td>\n",
       "      <td>545.5</td>\n",
       "      <td>0</td>\n",
       "      <td>6 days</td>\n",
       "    </tr>\n",
       "  </tbody>\n",
       "</table>\n",
       "</div>"
      ],
      "text/plain": [
       "             high    low  day_of_week  days_since_mar_10\n",
       "2015-03-10  563.3  553.2            1             0 days\n",
       "2015-03-11  556.6  549.1            2             1 days\n",
       "2015-03-12  554.8  548.9            3             2 days\n",
       "2015-03-13  556.8  542.7            4             3 days\n",
       "2015-03-14  555.3  544.5            5             4 days\n",
       "2015-03-15  552.2  546.4            6             5 days\n",
       "2015-03-16  558.2  545.5            0             6 days"
      ]
     },
     "execution_count": 34,
     "metadata": {},
     "output_type": "execute_result"
    }
   ],
   "source": [
    "df_with_dates['days_since_mar_10'] = dates - dates[0]\n",
    "df_with_dates"
   ]
  },
  {
   "cell_type": "markdown",
   "metadata": {},
   "source": [
    "And when using a dataframes `plot` method, the x-axis labels are always well formatted if the index is a datetime (this is not always the case if the dates are of type string):"
   ]
  },
  {
   "cell_type": "code",
   "execution_count": 35,
   "metadata": {},
   "outputs": [
    {
     "data": {
      "text/plain": [
       "<matplotlib.axes._subplots.AxesSubplot at 0x110b585d0>"
      ]
     },
     "execution_count": 35,
     "metadata": {},
     "output_type": "execute_result"
    },
    {
     "data": {
      "image/png": "[encoded data removed]",
      "text/plain": [
       "<matplotlib.figure.Figure at 0x110b16410>"
      ]
     },
     "metadata": {},
     "output_type": "display_data"
    }
   ],
   "source": [
    "# we use the .loc operator to select only the columns we want to plot\n",
    "df_with_dates.loc[:,['high', 'low']].plot()"
   ]
  },
  {
   "cell_type": "markdown",
   "metadata": {},
   "source": [
    "**Note:** If you have timeseries data, the dates don't have to be the index as we've done here. You could just as easily make them another column. If you chose to go that route, however, you'd need to specify which column to use as the x-axis when using the dataframes `plot` method (using the `x` parameter).\n",
    "\n",
    "We'll see in the next module how to import data from a text file or a sql database directly into a pandas dataframe.\n",
    "\n",
    "Dataframes at a quick glance\n",
    "---\n",
    "The dataframe that we've been working with in this module is relatively small. It is more common whoever to have dataframes with many more rows. In that case, you might still want to print your dataframe to the screen to see what you've got (what are the columns names and types, how sparse is the data, etc.), but you don't need (or want) to see the *all* of the data. In these cases the dataframes `head` and `tail` methods are very useful."
   ]
  },
  {
   "cell_type": "code",
   "execution_count": 36,
   "metadata": {},
   "outputs": [
    {
     "data": {
      "text/html": [
       "<div>\n",
       "<table border=\"1\" class=\"dataframe\">\n",
       "  <thead>\n",
       "    <tr style=\"text-align: right;\">\n",
       "      <th></th>\n",
       "      <th>high</th>\n",
       "      <th>low</th>\n",
       "      <th>day_of_week</th>\n",
       "      <th>days_since_mar_10</th>\n",
       "    </tr>\n",
       "  </thead>\n",
       "  <tbody>\n",
       "    <tr>\n",
       "      <th>2015-03-10</th>\n",
       "      <td>563.3</td>\n",
       "      <td>553.2</td>\n",
       "      <td>1</td>\n",
       "      <td>0 days</td>\n",
       "    </tr>\n",
       "    <tr>\n",
       "      <th>2015-03-11</th>\n",
       "      <td>556.6</td>\n",
       "      <td>549.1</td>\n",
       "      <td>2</td>\n",
       "      <td>1 days</td>\n",
       "    </tr>\n",
       "    <tr>\n",
       "      <th>2015-03-12</th>\n",
       "      <td>554.8</td>\n",
       "      <td>548.9</td>\n",
       "      <td>3</td>\n",
       "      <td>2 days</td>\n",
       "    </tr>\n",
       "  </tbody>\n",
       "</table>\n",
       "</div>"
      ],
      "text/plain": [
       "             high    low  day_of_week  days_since_mar_10\n",
       "2015-03-10  563.3  553.2            1             0 days\n",
       "2015-03-11  556.6  549.1            2             1 days\n",
       "2015-03-12  554.8  548.9            3             2 days"
      ]
     },
     "execution_count": 36,
     "metadata": {},
     "output_type": "execute_result"
    }
   ],
   "source": [
    "df_with_dates.head(3)"
   ]
  },
  {
   "cell_type": "markdown",
   "metadata": {},
   "source": [
    "Here we've used the `head` method to show only the first 3 rows in our dataframe. Similarly, we could use the `tail` method to see the rows at the end of the dataframe:"
   ]
  },
  {
   "cell_type": "code",
   "execution_count": 37,
   "metadata": {},
   "outputs": [
    {
     "data": {
      "text/html": [
       "<div>\n",
       "<table border=\"1\" class=\"dataframe\">\n",
       "  <thead>\n",
       "    <tr style=\"text-align: right;\">\n",
       "      <th></th>\n",
       "      <th>high</th>\n",
       "      <th>low</th>\n",
       "      <th>day_of_week</th>\n",
       "      <th>days_since_mar_10</th>\n",
       "    </tr>\n",
       "  </thead>\n",
       "  <tbody>\n",
       "    <tr>\n",
       "      <th>2015-03-13</th>\n",
       "      <td>556.8</td>\n",
       "      <td>542.7</td>\n",
       "      <td>4</td>\n",
       "      <td>3 days</td>\n",
       "    </tr>\n",
       "    <tr>\n",
       "      <th>2015-03-14</th>\n",
       "      <td>555.3</td>\n",
       "      <td>544.5</td>\n",
       "      <td>5</td>\n",
       "      <td>4 days</td>\n",
       "    </tr>\n",
       "    <tr>\n",
       "      <th>2015-03-15</th>\n",
       "      <td>552.2</td>\n",
       "      <td>546.4</td>\n",
       "      <td>6</td>\n",
       "      <td>5 days</td>\n",
       "    </tr>\n",
       "    <tr>\n",
       "      <th>2015-03-16</th>\n",
       "      <td>558.2</td>\n",
       "      <td>545.5</td>\n",
       "      <td>0</td>\n",
       "      <td>6 days</td>\n",
       "    </tr>\n",
       "  </tbody>\n",
       "</table>\n",
       "</div>"
      ],
      "text/plain": [
       "             high    low  day_of_week  days_since_mar_10\n",
       "2015-03-13  556.8  542.7            4             3 days\n",
       "2015-03-14  555.3  544.5            5             4 days\n",
       "2015-03-15  552.2  546.4            6             5 days\n",
       "2015-03-16  558.2  545.5            0             6 days"
      ]
     },
     "execution_count": 37,
     "metadata": {},
     "output_type": "execute_result"
    }
   ],
   "source": [
    "df_with_dates.tail(4)"
   ]
  },
  {
   "cell_type": "markdown",
   "metadata": {},
   "source": [
    "Dataframes also come with a `describe` method to get some basic statistics for each column:"
   ]
  },
  {
   "cell_type": "code",
   "execution_count": 38,
   "metadata": {
    "scrolled": true
   },
   "outputs": [
    {
     "data": {
      "text/html": [
       "<div>\n",
       "<table border=\"1\" class=\"dataframe\">\n",
       "  <thead>\n",
       "    <tr style=\"text-align: right;\">\n",
       "      <th></th>\n",
       "      <th>high</th>\n",
       "      <th>low</th>\n",
       "      <th>day_of_week</th>\n",
       "      <th>days_since_mar_10</th>\n",
       "    </tr>\n",
       "  </thead>\n",
       "  <tbody>\n",
       "    <tr>\n",
       "      <th>count</th>\n",
       "      <td>7.000000</td>\n",
       "      <td>7.000000</td>\n",
       "      <td>7.000000</td>\n",
       "      <td>7</td>\n",
       "    </tr>\n",
       "    <tr>\n",
       "      <th>mean</th>\n",
       "      <td>556.742857</td>\n",
       "      <td>547.185714</td>\n",
       "      <td>3.000000</td>\n",
       "      <td>3 days 00:00:00</td>\n",
       "    </tr>\n",
       "    <tr>\n",
       "      <th>std</th>\n",
       "      <td>3.455362</td>\n",
       "      <td>3.501632</td>\n",
       "      <td>2.160247</td>\n",
       "      <td>2 days 03:50:45.332114</td>\n",
       "    </tr>\n",
       "    <tr>\n",
       "      <th>min</th>\n",
       "      <td>552.200000</td>\n",
       "      <td>542.700000</td>\n",
       "      <td>0.000000</td>\n",
       "      <td>0 days 00:00:00</td>\n",
       "    </tr>\n",
       "    <tr>\n",
       "      <th>25%</th>\n",
       "      <td>555.050000</td>\n",
       "      <td>545.000000</td>\n",
       "      <td>1.500000</td>\n",
       "      <td>1 days 12:00:00</td>\n",
       "    </tr>\n",
       "    <tr>\n",
       "      <th>50%</th>\n",
       "      <td>556.600000</td>\n",
       "      <td>546.400000</td>\n",
       "      <td>3.000000</td>\n",
       "      <td>3 days 00:00:00</td>\n",
       "    </tr>\n",
       "    <tr>\n",
       "      <th>75%</th>\n",
       "      <td>557.500000</td>\n",
       "      <td>549.000000</td>\n",
       "      <td>4.500000</td>\n",
       "      <td>4 days 12:00:00</td>\n",
       "    </tr>\n",
       "    <tr>\n",
       "      <th>max</th>\n",
       "      <td>563.300000</td>\n",
       "      <td>553.200000</td>\n",
       "      <td>6.000000</td>\n",
       "      <td>6 days 00:00:00</td>\n",
       "    </tr>\n",
       "  </tbody>\n",
       "</table>\n",
       "</div>"
      ],
      "text/plain": [
       "             high         low  day_of_week       days_since_mar_10\n",
       "count    7.000000    7.000000     7.000000                       7\n",
       "mean   556.742857  547.185714     3.000000         3 days 00:00:00\n",
       "std      3.455362    3.501632     2.160247  2 days 03:50:45.332114\n",
       "min    552.200000  542.700000     0.000000         0 days 00:00:00\n",
       "25%    555.050000  545.000000     1.500000         1 days 12:00:00\n",
       "50%    556.600000  546.400000     3.000000         3 days 00:00:00\n",
       "75%    557.500000  549.000000     4.500000         4 days 12:00:00\n",
       "max    563.300000  553.200000     6.000000         6 days 00:00:00"
      ]
     },
     "execution_count": 38,
     "metadata": {},
     "output_type": "execute_result"
    }
   ],
   "source": [
    "df_with_dates.describe()"
   ]
  }
 ],
 "metadata": {
  "kernelspec": {
   "display_name": "Python 3",
   "language": "python",
   "name": "python3"
  },
  "language_info": {
   "codemirror_mode": {
    "name": "ipython",
    "version": 3
   },
   "file_extension": ".py",
   "mimetype": "text/x-python",
   "name": "python",
   "nbconvert_exporter": "python",
   "pygments_lexer": "ipython3",
   "version": "3.6.4"
  }
 },
 "nbformat": 4,
 "nbformat_minor": 1
}
